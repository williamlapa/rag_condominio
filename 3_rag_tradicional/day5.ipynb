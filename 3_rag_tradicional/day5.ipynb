{
 "cells": [
  {
   "cell_type": "markdown",
   "id": "dfe37963-1af6-44fc-a841-8e462443f5e6",
   "metadata": {},
   "source": [
    "## Usando RAG para Docs de condomínio\n"
   ]
  },
  {
   "cell_type": "code",
   "execution_count": 1,
   "id": "ba2779af-84ef-4227-9e9e-6eaf0df87e77",
   "metadata": {},
   "outputs": [],
   "source": [
    "# imports simples\n",
    "\n",
    "import os\n",
    "import glob\n",
    "from dotenv import load_dotenv\n",
    "import gradio as gr\n",
    "\n",
    "# imports for langchain, plotly and Chroma\n",
    "\n",
    "from langchain.document_loaders import DirectoryLoader, TextLoader\n",
    "from langchain.text_splitter import CharacterTextSplitter\n",
    "from langchain.schema import Document\n",
    "from langchain_openai import OpenAIEmbeddings, ChatOpenAI\n",
    "from langchain_chroma import Chroma\n",
    "import matplotlib.pyplot as plt\n",
    "from sklearn.manifold import TSNE\n",
    "import numpy as np\n",
    "import plotly.graph_objects as go\n",
    "from langchain.memory import ConversationBufferMemory\n",
    "from langchain.chains import ConversationalRetrievalChain\n",
    "from langchain.embeddings import HuggingFaceEmbeddings\n"
   ]
  },
  {
   "cell_type": "code",
   "execution_count": 2,
   "id": "58c85082-e417-4708-9efe-81a5d55d1424",
   "metadata": {},
   "outputs": [],
   "source": [
    "# Definindo modelos e banco de dados\n",
    "\n",
    "MODEL = \"gpt-4o-mini\"\n",
    "db_name = \"vector_db\""
   ]
  },
  {
   "cell_type": "code",
   "execution_count": 3,
   "id": "ee78efcb-60fe-449e-a944-40bab26261af",
   "metadata": {},
   "outputs": [],
   "source": [
    "# Carregando variáveis de ambiente\n",
    "\n",
    "load_dotenv(override=True)\n",
    "os.environ['OPENAI_API_KEY'] = os.getenv('OPENAI_API_KEY', 'your-key-if-not-using-env')"
   ]
  },
  {
   "cell_type": "code",
   "execution_count": 5,
   "id": "34607b83",
   "metadata": {},
   "outputs": [
    {
     "name": "stdout",
     "output_type": "stream",
     "text": [
      "Verificando o diretório: /mnt/c/Users/willi/Documents/Projetos/rag_condominio/0_base_conhecimento/processed_docs_cache\n",
      "Conteúdo do diretório: ['049b078c-b5bf-4d97-bdf7-a2fbd7c66f3b.txt', '065b78d0-c521-4ff9-9932-3825b4b82437.txt', '080a5ffd-2464-40f4-92c0-b4b07e45f617.txt', '2789187e-d466-448c-95ff-f7ff1250a5a4.txt', '280c2644-d328-40d5-bd2c-755a12df2a78.txt', '2ab34b5f-907f-4a18-b0d1-00b152a94df0.txt', '2d264460-0427-482b-ae8d-1c63b20fc53a.txt', '4ef8fafa-78b6-4f4e-8c81-6ca0132fe3b4.txt', '5f64b310-fb6b-412e-b295-96c52a2a1cf4.txt', '5f6bce90-49ed-4d61-858a-fba2f2e1bfe0.txt', '633681a6-5e09-4894-b648-7204c60baea2.txt', '65acae7c-a59f-4e10-8d41-22632869a150.txt', '6917e5df-e366-4198-98b0-1ee290786cb9.txt', '798a79eb-8cbc-4645-9610-474411733ed5.txt', '7cf9f6a5-99d3-4c15-9197-bfb22d2ea64e.txt', '874d4d25-d861-48a4-8060-b2c281d0ff20.txt', '8a71943b-ebd6-45a5-856b-5ead72b58d06.txt', '98e667e9-9dc1-4e00-a6fe-51fb7fa0b1a1.txt', '9c5d36c6-bda9-40df-a782-6f42537facf5.txt', '9c7408f2-660f-4f7d-8272-3e8b462be3ae.txt', '9d0b28a5-1c42-4db7-8106-9df09cd2764b.txt', 'a3ab79c5-52e6-43bd-8743-58a5714651b1.txt', 'ATA_22_04_2025.txt', 'cd0a0fe2-f556-4d41-8de8-06eb5b0e0230.txt', 'chroma_db', 'd2c0503c-1caa-4c0c-b7d3-56bb31064a58.txt', 'd648bb35-c0f2-4f1e-ae64-83408184cd47.txt', 'dbf86d04-be52-4e18-81f1-8363f6b313e7.txt', 'de470402-edbe-45ca-9e00-c4604382f55d.txt', 'df61199b-6199-471d-a952-219f17af1950.txt', 'e96e4dac-fc58-4346-a8cc-7f349b0e4458.txt', 'fa4323cb-3eae-4339-9357-ae5c84a233de.txt']\n",
      "Processando pasta: /mnt/c/Users/willi/Documents/Projetos/rag_condominio/0_base_conhecimento/processed_docs_cache/chroma_db (tipo: chroma_db)\n",
      "Encontrados 0 documentos nesta pasta\n",
      "Processando pasta: /mnt/c/Users/willi/Documents/Projetos/rag_condominio/0_base_conhecimento/processed_docs_cache (tipo: processed_docs_cache)\n"
     ]
    },
    {
     "name": "stderr",
     "output_type": "stream",
     "text": [
      "Created a chunk of size 1160, which is longer than the specified 1000\n",
      "Created a chunk of size 2119, which is longer than the specified 1000\n",
      "Created a chunk of size 1586, which is longer than the specified 1000\n",
      "Created a chunk of size 2610, which is longer than the specified 1000\n",
      "Created a chunk of size 1825, which is longer than the specified 1000\n",
      "Created a chunk of size 1969, which is longer than the specified 1000\n",
      "Created a chunk of size 4090, which is longer than the specified 1000\n",
      "Created a chunk of size 4563, which is longer than the specified 1000\n",
      "Created a chunk of size 3047, which is longer than the specified 1000\n",
      "Created a chunk of size 1381, which is longer than the specified 1000\n",
      "Created a chunk of size 4421, which is longer than the specified 1000\n",
      "Created a chunk of size 1301, which is longer than the specified 1000\n",
      "Created a chunk of size 1222, which is longer than the specified 1000\n",
      "Created a chunk of size 4010, which is longer than the specified 1000\n",
      "Created a chunk of size 4338, which is longer than the specified 1000\n",
      "Created a chunk of size 1576, which is longer than the specified 1000\n",
      "Created a chunk of size 3537, which is longer than the specified 1000\n",
      "Created a chunk of size 1983, which is longer than the specified 1000\n",
      "Created a chunk of size 2970, which is longer than the specified 1000\n",
      "Created a chunk of size 1347, which is longer than the specified 1000\n",
      "Created a chunk of size 2127, which is longer than the specified 1000\n",
      "Created a chunk of size 4673, which is longer than the specified 1000\n",
      "Created a chunk of size 1362, which is longer than the specified 1000\n",
      "Created a chunk of size 3824, which is longer than the specified 1000\n",
      "Created a chunk of size 3685, which is longer than the specified 1000\n",
      "Created a chunk of size 1269, which is longer than the specified 1000\n",
      "Created a chunk of size 3782, which is longer than the specified 1000\n",
      "Created a chunk of size 1348, which is longer than the specified 1000\n",
      "Created a chunk of size 3485, which is longer than the specified 1000\n",
      "Created a chunk of size 4519, which is longer than the specified 1000\n",
      "Created a chunk of size 4129, which is longer than the specified 1000\n",
      "Created a chunk of size 3868, which is longer than the specified 1000\n",
      "Created a chunk of size 4562, which is longer than the specified 1000\n",
      "Created a chunk of size 3608, which is longer than the specified 1000\n",
      "Created a chunk of size 3697, which is longer than the specified 1000\n",
      "Created a chunk of size 1588, which is longer than the specified 1000\n",
      "Created a chunk of size 1150, which is longer than the specified 1000\n",
      "Created a chunk of size 2367, which is longer than the specified 1000\n",
      "Created a chunk of size 1983, which is longer than the specified 1000\n",
      "Created a chunk of size 2970, which is longer than the specified 1000\n",
      "Created a chunk of size 1347, which is longer than the specified 1000\n",
      "Created a chunk of size 4823, which is longer than the specified 1000\n",
      "Created a chunk of size 5006, which is longer than the specified 1000\n",
      "Created a chunk of size 4385, which is longer than the specified 1000\n",
      "Created a chunk of size 1292, which is longer than the specified 1000\n",
      "Created a chunk of size 2331, which is longer than the specified 1000\n",
      "Created a chunk of size 1160, which is longer than the specified 1000\n",
      "Created a chunk of size 2119, which is longer than the specified 1000\n",
      "Created a chunk of size 1586, which is longer than the specified 1000\n",
      "Created a chunk of size 2610, which is longer than the specified 1000\n",
      "Created a chunk of size 1825, which is longer than the specified 1000\n",
      "Created a chunk of size 1969, which is longer than the specified 1000\n",
      "Created a chunk of size 4090, which is longer than the specified 1000\n",
      "Created a chunk of size 4563, which is longer than the specified 1000\n",
      "Created a chunk of size 3047, which is longer than the specified 1000\n",
      "Created a chunk of size 1381, which is longer than the specified 1000\n",
      "Created a chunk of size 4421, which is longer than the specified 1000\n",
      "Created a chunk of size 1301, which is longer than the specified 1000\n",
      "Created a chunk of size 1222, which is longer than the specified 1000\n",
      "Created a chunk of size 4010, which is longer than the specified 1000\n",
      "Created a chunk of size 4338, which is longer than the specified 1000\n",
      "Created a chunk of size 1576, which is longer than the specified 1000\n",
      "Created a chunk of size 3537, which is longer than the specified 1000\n",
      "Created a chunk of size 3198, which is longer than the specified 1000\n",
      "Created a chunk of size 4188, which is longer than the specified 1000\n",
      "Created a chunk of size 2480, which is longer than the specified 1000\n",
      "Created a chunk of size 4673, which is longer than the specified 1000\n",
      "Created a chunk of size 1362, which is longer than the specified 1000\n",
      "Created a chunk of size 3697, which is longer than the specified 1000\n",
      "Created a chunk of size 1588, which is longer than the specified 1000\n",
      "Created a chunk of size 1150, which is longer than the specified 1000\n",
      "Created a chunk of size 2367, which is longer than the specified 1000\n",
      "Created a chunk of size 3618, which is longer than the specified 1000\n",
      "Created a chunk of size 2218, which is longer than the specified 1000\n",
      "Created a chunk of size 1434, which is longer than the specified 1000\n",
      "Created a chunk of size 3685, which is longer than the specified 1000\n",
      "Created a chunk of size 3021, which is longer than the specified 1000\n",
      "Created a chunk of size 2817, which is longer than the specified 1000\n",
      "Created a chunk of size 2047, which is longer than the specified 1000\n"
     ]
    },
    {
     "name": "stdout",
     "output_type": "stream",
     "text": [
      "Encontrados 31 documentos nesta pasta\n",
      "Total number of chunks: 354\n",
      "Document types found: {'processed_docs_cache'}\n"
     ]
    }
   ],
   "source": [
    "# 1. Primeiro, verifique se o caminho está correto\n",
    "BASE_DIR = os.path.abspath(os.path.join(os.getcwd(), \"../0_base_conhecimento\"))\n",
    "CACHE_DIR = os.path.join(BASE_DIR, \"processed_docs_cache\")\n",
    "\n",
    "knowledgebase_path = CACHE_DIR\n",
    "print(f\"Verificando o diretório: {knowledgebase_path}\")\n",
    "print(f\"Conteúdo do diretório: {os.listdir(knowledgebase_path)}\")\n",
    "\n",
    "# 2. Modifique para procurar tanto em processed_docs_cache quanto em suas subpastas\n",
    "folders = glob.glob(os.path.join(knowledgebase_path, \"*\")) + [knowledgebase_path]\n",
    "\n",
    "def add_metadata(doc, doc_type):\n",
    "    doc.metadata[\"doc_type\"] = doc_type\n",
    "    return doc\n",
    "\n",
    "text_loader_kwargs = {'encoding': 'utf-8'}\n",
    "\n",
    "documents = []\n",
    "for folder in folders:\n",
    "    if os.path.isdir(folder):  # Só processa se for um diretório\n",
    "        doc_type = os.path.basename(folder)\n",
    "        print(f\"Processando pasta: {folder} (tipo: {doc_type})\")\n",
    "        \n",
    "        # Tente carregar tanto arquivos .txt na pasta raiz quanto em subpastas\n",
    "        loader = DirectoryLoader(folder, glob=\"**/*.txt\", loader_cls=TextLoader, \n",
    "                               loader_kwargs=text_loader_kwargs, recursive=True)\n",
    "        folder_docs = loader.load()\n",
    "        print(f\"Encontrados {len(folder_docs)} documentos nesta pasta\")\n",
    "        documents.extend([add_metadata(doc, doc_type) for doc in folder_docs])\n",
    "\n",
    "if not documents:\n",
    "    print(\"Nenhum documento foi carregado. Verifique:\")\n",
    "    print(f\"1. O caminho {knowledgebase_path} existe?\")\n",
    "    print(\"2. Existem arquivos .txt no diretório ou subdiretórios?\")\n",
    "else:\n",
    "    text_splitter = CharacterTextSplitter(chunk_size=1000, chunk_overlap=200)\n",
    "    chunks = text_splitter.split_documents(documents)\n",
    "    print(f\"Total number of chunks: {len(chunks)}\")\n",
    "    print(f\"Document types found: {set(doc.metadata['doc_type'] for doc in documents)}\")"
   ]
  },
  {
   "cell_type": "code",
   "execution_count": 6,
   "id": "78998399-ac17-4e28-b15f-0b5f51e6ee23",
   "metadata": {},
   "outputs": [
    {
     "name": "stdout",
     "output_type": "stream",
     "text": [
      "Vectorstore created with 354 documents\n"
     ]
    }
   ],
   "source": [
    "# Create embeddings using OpenAI's text-embedding-3-small model\n",
    "embeddings = OpenAIEmbeddings(model=\"text-embedding-3-small\")\n",
    "\n",
    "# Delete if already exists\n",
    "\n",
    "if os.path.exists(db_name):\n",
    "    Chroma(persist_directory=db_name, embedding_function=embeddings).delete_collection()\n",
    "\n",
    "# Create vectorstore\n",
    "\n",
    "vectorstore = Chroma.from_documents(documents=chunks, embedding=embeddings, persist_directory=db_name)\n",
    "print(f\"Vectorstore created with {vectorstore._collection.count()} documents\")"
   ]
  },
  {
   "cell_type": "code",
   "execution_count": 7,
   "id": "ff2e7687-60d4-4920-a1d7-a34b9f70a250",
   "metadata": {},
   "outputs": [
    {
     "name": "stdout",
     "output_type": "stream",
     "text": [
      "There are 354 vectors with 1,536 dimensions in the vector store\n"
     ]
    }
   ],
   "source": [
    "# Let's investigate the vectors\n",
    "\n",
    "collection = vectorstore._collection\n",
    "count = collection.count()\n",
    "\n",
    "sample_embedding = collection.get(limit=1, include=[\"embeddings\"])[\"embeddings\"][0]\n",
    "dimensions = len(sample_embedding)\n",
    "print(f\"There are {count:,} vectors with {dimensions:,} dimensions in the vector store\")"
   ]
  },
  {
   "cell_type": "code",
   "execution_count": 8,
   "id": "129c7d1e-0094-4479-9459-f9360b95f244",
   "metadata": {},
   "outputs": [
    {
     "name": "stderr",
     "output_type": "stream",
     "text": [
      "/tmp/ipykernel_16905/4249715902.py:11: LangChainDeprecationWarning: Please see the migration guide at: https://python.langchain.com/docs/versions/migrating_memory/\n",
      "  memory = ConversationBufferMemory(memory_key='chat_history', return_messages=True)\n"
     ]
    }
   ],
   "source": [
    "# create a new Chat with OpenAI\n",
    "llm = ChatOpenAI(\n",
    "    temperature=0.7,\n",
    "    model_name=MODEL\n",
    ")\n",
    "\n",
    "# Alternative - if you'd like to use Ollama locally, uncomment this line instead\n",
    "# llm = ChatOpenAI(temperature=0.7, model_name='llama3.2', base_url='http://localhost:11434/v1', api_key='ollama')\n",
    "\n",
    "# set up the conversation memory for the chat\n",
    "memory = ConversationBufferMemory(memory_key='chat_history', return_messages=True)\n",
    "\n",
    "# the retriever is an abstraction over the VectorStore that will be used during RAG\n",
    "retriever = vectorstore.as_retriever()\n",
    "\n",
    "# putting it together: set up the conversation chain with the GPT 3.5 LLM, the vector store and memory\n",
    "conversation_chain = ConversationalRetrievalChain.from_llm(llm=llm, retriever=retriever, memory=memory)"
   ]
  },
  {
   "cell_type": "code",
   "execution_count": 9,
   "id": "028a9342",
   "metadata": {},
   "outputs": [
    {
     "name": "stdout",
     "output_type": "stream",
     "text": [
      "❓ Pergunta: Quando ocorreu a última assembleia ou reunião registrada do condomínio?\n",
      "✅ Resposta: A última assembleia registrada do condomínio ocorreu no dia 27 de novembro de 2024.\n",
      "\n",
      "❓ Pergunta: Liste as datas das cinco assembleias ou reuniões mais recentes, em ordem cronológica.\n",
      "✅ Resposta: As cinco assembleias ou reuniões mais recentes, em ordem cronológica, foram:\n",
      "\n",
      "1. 10 de setembro de 2024\n",
      "2. 4 de novembro de 2024\n",
      "\n",
      "Não há informações sobre mais assembleias ou reuniões além dessas duas.\n",
      "\n",
      "❓ Pergunta: Quais foram os tópicos principais discutidos na assembleia mais recente do condomínio?\n",
      "✅ Resposta: Os tópicos principais discutidos na assembleia mais recente do condomínio foram:\n",
      "\n",
      "A) Apresentação da previsão orçamentária para 2023, análise e votação sobre a majoração da taxa ordinária;\n",
      "B) Apresentação de relatório das necessidades de obras para recuperação das áreas comuns;\n",
      "C) Apresentação do saldo bancário oriundo da taxa extra destinado a obra do andar 55, com votação para utilização nos investimentos necessários atuais;\n",
      "D) Apresentação de propostas e votação para reajuste do valor de utilização do salão de festas e aprovação de taxa para utilização da churrasqueira;\n",
      "E) Discussão e definição do uso das áreas comuns dos apartamentos;\n",
      "F) Discussão sobre as manutenções preventivas que estão desatualizadas;\n",
      "G) Tratativas com a seguradora KSEG sobre o sinistro e ressarcimento de despesas;\n",
      "H) Atualização do regimento interno e formação de uma comissão para discutir essa atualização;\n",
      "I) Implementação de notificações e multas conforme o regimento interno.\n",
      "\n",
      "❓ Pergunta: Quem são os atuais membros do conselho fiscal, conforme os documentos mais recentes?\n",
      "✅ Resposta: Os documentos mais recentes mencionam que Maridzabel Cordeiro Ferreira e Asevedo são membros do conselho fiscal renunciante. Não há informações sobre novos membros do conselho fiscal.\n",
      "\n",
      "❓ Pergunta: De acordo com a última ata de assembleia, qual é o valor atual da taxa condominial definida para os condôminos?\n",
      "✅ Resposta: Não sei.\n",
      "\n",
      "❓ Pergunta: Quais contratos ativos o condomínio possui atualmente e com quais empresas foram firmados?\n",
      "✅ Resposta: Desculpe, mas não sei quais contratos ativos o condomínio possui atualmente e com quais empresas foram firmados.\n",
      "\n",
      "❓ Pergunta: Qual é o valor mensal acordado no contrato de prestação de serviços manutenção de elevadores?\n",
      "✅ Resposta: O valor mensal acordado no contrato de prestação de serviços de manutenção de elevadores é de R$ 2.100,00 (Dois Mil e Cem Reais).\n",
      "\n",
      "❓ Pergunta: Há cláusulas com penalidades previstas para rescisão antecipada de algum contrato? Se sim, quais?\n",
      "✅ Resposta: Sim, há cláusulas com penalidades previstas para a rescisão antecipada do contrato. \n",
      "\n",
      "- Caso a rescisão seja sem justa causa por parte da CONTRATANTE, esta deverá pagar à CONTRATADA o equivalente a 10% do saldo do contrato a título de indenização.\n",
      "- Se a rescisão for sem justa causa por parte da CONTRATADA, esta deverá pagar à CONTRATANTE o equivalente a 10% do saldo do contrato, também a título de indenização. \n",
      "\n",
      "Além disso, em caso de rescisão unilateral e imotivada por parte do CONTRATANTE, ele se obriga ao pagamento integral das parcelas vencidas até o momento da rescisão.\n",
      "\n",
      "❓ Pergunta: Quando foi firmado o contrato mais recente e qual é o prazo de vigência previsto?\n",
      "✅ Resposta: Não sei.\n",
      "\n",
      "❓ Pergunta: Existe algum contrato relacionado à manutenção predial, elevadores ou segurança eletrônica? Qual o conteúdo principal?\n",
      "✅ Resposta: Sim, existe um contrato relacionado à manutenção de elevadores. O conteúdo principal do contrato inclui:\n",
      "\n",
      "1. **Objetivo**: Prestação de serviços técnicos especializados de manutenção preventiva e corretiva para elevadores.\n",
      "2. **Obrigações da Contratada**: Realização de inspeções técnicas, manutenção preventiva e corretiva, substituição e reparo de componentes, e testes de segurança.\n",
      "3. **Rescisão**: Condições para rescisão do contrato, incluindo situações que permitem a rescisão imediata e a rescisão imotivada com aviso prévio.\n",
      "4. **Multas**: Penalidades em caso de rescisão imotivada.\n",
      "5. **Condições Gerais**: Regras sobre pagamentos, serviços não incluídos, e responsabilidade pela coleta e destinação de peças substituídas.\n",
      "\n",
      "O contrato estabelece também que a manutenção preventiva e corretiva só será realizada se o cliente estiver em dia com os pagamentos e detalha os serviços disponíveis, como atendimento técnico e monitoramento remoto.\n",
      "\n"
     ]
    }
   ],
   "source": [
    "sample_questions = [\n",
    "    # 📝 Atas e Reuniões\n",
    "    \"Quando ocorreu a última assembleia ou reunião registrada do condomínio?\",\n",
    "    \"Liste as datas das cinco assembleias ou reuniões mais recentes, em ordem cronológica.\",\n",
    "    \"Quais foram os tópicos principais discutidos na assembleia mais recente do condomínio?\",\n",
    "    \"Quem são os atuais membros do conselho fiscal, conforme os documentos mais recentes?\",\n",
    "    \"De acordo com a última ata de assembleia, qual é o valor atual da taxa condominial definida para os condôminos?\",\n",
    "\n",
    "    # 📄 Contratos\n",
    "    \"Quais contratos ativos o condomínio possui atualmente e com quais empresas foram firmados?\",\n",
    "    \"Qual é o valor mensal acordado no contrato de prestação de serviços manutenção de elevadores?\",\n",
    "    \"Há cláusulas com penalidades previstas para rescisão antecipada de algum contrato? Se sim, quais?\",\n",
    "    \"Quando foi firmado o contrato mais recente e qual é o prazo de vigência previsto?\",\n",
    "    \"Existe algum contrato relacionado à manutenção predial, elevadores ou segurança eletrônica? Qual o conteúdo principal?\"\n",
    "]\n",
    "\n",
    "# 9. Execução das perguntas\n",
    "for question in sample_questions:\n",
    "    result = conversation_chain.invoke({\"question\": question})\n",
    "    print(f\"❓ Pergunta: {question}\\n✅ Resposta: {result['answer']}\\n\")"
   ]
  },
  {
   "cell_type": "code",
   "execution_count": 10,
   "id": "5b5a9013-d5d4-4e25-9e7c-cdbb4f33e319",
   "metadata": {},
   "outputs": [],
   "source": [
    "# set up a new conversation memory for the chat\n",
    "memory = ConversationBufferMemory(memory_key='chat_history', return_messages=True)\n",
    "\n",
    "# putting it together: set up the conversation chain with the GPT 4o-mini LLM, the vector store and memory\n",
    "conversation_chain = ConversationalRetrievalChain.from_llm(llm=llm, retriever=retriever, memory=memory)"
   ]
  },
  {
   "cell_type": "markdown",
   "id": "bbbcb659-13ce-47ab-8a5e-01b930494964",
   "metadata": {},
   "source": [
    "## Now we will bring this up in Gradio using the Chat interface -\n",
    "\n",
    "A quick and easy way to prototype a chat with an LLM"
   ]
  },
  {
   "cell_type": "code",
   "execution_count": 25,
   "id": "c3536590-85c7-4155-bd87-ae78a1467670",
   "metadata": {},
   "outputs": [],
   "source": [
    "# Wrapping that in a function\n",
    "\n",
    "def chat(question, history):\n",
    "    result = conversation_chain.invoke({\"question\": question})\n",
    "    return result[\"answer\"]"
   ]
  },
  {
   "cell_type": "code",
   "execution_count": 26,
   "id": "b252d8c1-61a8-406d-b57a-8f708a62b014",
   "metadata": {},
   "outputs": [
    {
     "name": "stdout",
     "output_type": "stream",
     "text": [
      "* Running on local URL:  http://127.0.0.1:7862\n",
      "* To create a public link, set `share=True` in `launch()`.\n"
     ]
    },
    {
     "data": {
      "text/html": [
       "<div><iframe src=\"http://127.0.0.1:7862/\" width=\"100%\" height=\"500\" allow=\"autoplay; camera; microphone; clipboard-read; clipboard-write;\" frameborder=\"0\" allowfullscreen></iframe></div>"
      ],
      "text/plain": [
       "<IPython.core.display.HTML object>"
      ]
     },
     "metadata": {},
     "output_type": "display_data"
    }
   ],
   "source": [
    "# And in Gradio:\n",
    "\n",
    "view = gr.ChatInterface(chat, type=\"messages\").launch(inbrowser=True)"
   ]
  },
  {
   "cell_type": "code",
   "execution_count": 27,
   "id": "b55e9abb-e1da-46c5-acba-911868aee329",
   "metadata": {},
   "outputs": [
    {
     "name": "stdout",
     "output_type": "stream",
     "text": [
      "\n",
      "\n",
      "\u001b[1m> Entering new ConversationalRetrievalChain chain...\u001b[0m\n",
      "\n",
      "\n",
      "\u001b[1m> Entering new StuffDocumentsChain chain...\u001b[0m\n",
      "\n",
      "\n",
      "\u001b[1m> Entering new LLMChain chain...\u001b[0m\n",
      "Prompt after formatting:\n",
      "\u001b[32;1m\u001b[1;3mSystem: Use the following pieces of context to answer the user's question. \n",
      "If you don't know the answer, just say that you don't know, don't try to make up an answer.\n",
      "----------------\n",
      "Ao quarto dia do mês de novembro de dois mile vinte e quatro, em 2º convocação, isto é, às 20hs, no\n",
      "salão de festas do Condomínio, reuniram-se os condôminos das unidades: P/P 0101, 0201, 0202, 0301,\n",
      "0302, 0401, P/P 0501, 0502, 0601, 0602, 0701, P/P 0801, 0902, 1002, 1102, 1201, 1302, P/P 1402,\n",
      "1501, P/P 1602, atendendo 20 Edital de Convocação enviado a todas as unidades por e-mail, para\n",
      "deliberarem sobre a seguinte ordem do dia: ITEM 1.- Aprovar atualizações e alterações do Regimento\n",
      "Interno, Para presidir a mesa foi aclamado o Sr. Carlos Magno Carvalho de Mendonça, unidade 1102, e\n",
      "para secretariar a Sra, Raquel Schettil, representante da Administradora Controlar. Após leitura da\n",
      "convocação pelo presidente foi inilada a reunião através de seu ITEM 1 Os presentes concluíram a\n",
      "discussão de todos os artigos da minuta do Regimento Interno, porém ficaram pendentes alguns pontos.\n",
      "que foram destacados nas sessões anteriores, Por esse motivo, não foi possível encaminhar a votação à\n",
      "aprovação ou não da atualização do Regimento Interno. Fica decidido que será agendada nova\n",
      "assembleia para dirimir as pendências e votar o documento final. Nada mais a tratar, deu-se por\n",
      "encerrada a assembleia, sendo esta assinada pelo presidente, e, por mim, secretária. Recife, 04 de\n",
      "novembro de 2024.\n",
      "\n",
      "Ao décimo dia do mês de setembro de dois mil e vinte e quatro, em 2º convocação, isto é, às 20hs, no\n",
      "Salão de festas do Condominio, reuniram-se os condôminos das unidades: P/P 0103, 0203, 0202, 0304,\n",
      "0302, P/P SO, 0502, P/P 0601, 0602, P/P 0701, 0801, 1001, 1102, P/P 1501, 1602, atendendo ao Edital\n",
      "de Convocação enviado a todas as unidades por e-mail, para deliberarem sobre a seguinte ordem do\n",
      "dia: ITEM 1 - Aprovar atualizações e alterações do Regimento Interno, Para presidir à mesa fot\n",
      "aclamado & Sr. Carlos Magno Carvalho de Mendonça, unidade 1102, e para Secretariar a Sra. Raquel\n",
      "Schettin, representante da Administradora Controlar. Após leitura ds convocação pelo presidente, sra\n",
      "Ana Júlia, síndica, relembra que o regimento interno foi enviado para apreciação de todos em maio e\n",
      "reenviado após as sugestões em julho. Sra, Vlen, subsíndica do Condomínio, pede a palavra e solicita\n",
      "que seja consignado em ata que se sentiu moralmente atingida enquanto pessoa e subsíndica do edificio\n",
      "por uma fala da sra. Luciana Mendonça no grupo de mensagens do Condomínio nos seguintes termos:\n",
      "“sabe o que parece? Que a atual administração tem interesse na ausência para aprovar tudo o que quer,\n",
      "do jeito que quer. Sinceramente. Nunca v isso”. Em seguida foi iniciada a reunião através de seu ITEM\n",
      "=Sra. Ana Júlia relembra que ficou pendente a definição do valor de multa. Sr. Carlos Magno inicia pela.\n",
      "Teitura do item 1) do artigo 17 que rege 2 aplicação da multa. Porém, foi questionado quais são as\n",
      "Infrações cometidas que gerarão essa multa e após debate foi retomada a leitura do regimento desde o\n",
      "Início. Foram lidos e discutídos os artigos 1, 2, 3 e 4 com alguns itens a serem rediscutidos (artigo 3, item\n",
      "1) e parágrafo, artigo 4, Itens ), m) 1), ) e parágrafos), devido ao adiantado da hora fica aprovado de\n",
      "forma unânime que esta sessão permanecerá como permanente para que seja convocada nova\n",
      "assembleia para conclusão deste tema. Sra. Glória, representante da unidade 0202, solicita que seja\n",
      "consignado em ATA que os condôminos leiam o regimento interno e compareçam a próxima sessão com\n",
      "as dúvidas e sugestões para que a assembleia transcorra de forma mais rápida e produtiva. Nada mais a\n",
      "tiatar, deu-se por encerrada a assembleia, sendo esta assinada pelo presidente, e, por mim, secretária\n",
      "Recife, 10 de setembro de 2024.\n",
      "\n",
      "Para presidir a mesa foi aclamado o Sr. Carlos Magno Carvalho de\n",
      "Mendonça, unidade 1102 e, para secretaria, a Sra. Raquel Schettii, representante da Administradora\n",
      "Controlar. Após leitura da convocação pelo presidente, foi iniciada à reunião através de seu ITEM 1 —\n",
      "$ra. Gloria, representante das unidades 0101 e 0501, pede que seja registrado em ATA que os\n",
      "funcionários do condomínio que executam serviços particulares para moradores tenham reforçada à\n",
      "informação, já repassada em treinamento de ética e conduta, que precisa registar o ponto\n",
      "corretamente ao término da jornacia E registrar sua entrada no Condomínio no controle de acesso\n",
      "quando for para qualquer apartamento. A Sra. Glória também relembra que, durante a reunião que\n",
      "estabeleceu novo valor de cobrança para o Salão de Festas e instituiu cobrança para a área Gourmet, no\n",
      "êmbito das discussões para alteração do Regimento Interno, ficou definido que, 6 (seis) meses após o\n",
      "início da cobrança dos novos valores, estes serão reavaliados pela gestão. Os presentes concluíram a\n",
      "discussão de todos os artigos da minuta do Regimento Interno e, posto em votação, foi aprovada pela\n",
      "unanimidade dos presentes a alteração do Regimento Interno. O mesmo seguirá para revisão e\n",
      "adequação ao formato jurídico para posterior publicação. Nada mais a tratar, deu-se por encerrada à\n",
      "assembleia, sendo esta assinada pelo presidente, e, por mim, secretária. Recife, 27 de novembro de\n",
      "2024,\n",
      "\n",
      "Ao décimo quinto dia do mês de fevereiro de dois mil e vinte e quatro, em 2º convocação, isto é, às 20h,\n",
      "no salão de festas do Condomínio, reuniram-se os condôminos das unidades: 0203, 0202, 0301, 0302,\n",
      "0502, 0902, 1001, 1102, 1302, 1501 atendendo ao Edital de Convocação enviado a todas as unidades por\n",
      "e-mail, para deliberarem sobre as seguintes ordens do dia: ITEM 1 - Aprovação da prestação de contas.\n",
      "ríodo de setembro/22 até\n",
      "ntária para o ano de 204\n",
      "Ressarcimento da recuperação da\n",
      "tri E ITEM 5 rica do pi li institui 7\n",
      "extrzordnári: TEM 6 Retomada da recuperação do SE; ITEM 7 - espota do seguro Allan, TEMS\n",
      ": o de multas a partir de fevereiro 2024; 1 ; ITEM 10 Ações\n",
      "realizadas ITEM 1 - Outros assuntos de interesse do Condomínio. Para Pres a mesa o aclamado à\n",
      "Sr. Carlos Magno Carvalho de Mendonça, unidade 1102, e para Secretaria a Sra. Bárbara Mendonça de\n",
      "Lima, representante da Administradora Controlar, Após eitura da convocação pela secretária, foi iniciada.\n",
      "a reunião através de seu ITEM 1. A síndica diz que o exercício de 2022 ainda seguirá pendente pois à\n",
      "antiga administradora, que era responsável pelo condomínio à época, ainda não encaminhou algumas.\n",
      "documentações. Quanto ao exercício de 2023, a síndica diz que um dos membros do Conselho ainda não.\n",
      "teve tempo hábil para assinar 0 parecer, par esses motivos, o item será postergado para ser discutido em\n",
      "uma nova assembleia, Sr, Wiliam sugere que um tempo seja estipulado para explanação dos itens,\n",
      "objetivando uma reunião direta e sucinta. A assembleia acata um tempo médio de dez minutos. Porém,\n",
      "a sindica diz que os itens 4,5 € 6 são itens delicados e que será necessário um tempo maior dedicado à\n",
      "estes, ITEM 2 - Sra, Maria Fernanda, representante da Controlar, inicia elencando e explicando item à\n",
      "item da minuta da previsão orçamentária para o ano de 2024, com base no reajuste dos funcionários e\n",
      "inflação, atualizada para o ano vigente. Propondo para os presentes, as seguintes onções\n",
      "Aa Sia O TAS es Sa\n",
      "Human: Quando ocorreu a última assembleia ou reunião registrada do condomínio?\u001b[0m\n",
      "\n",
      "\u001b[1m> Finished chain.\u001b[0m\n",
      "\n",
      "\u001b[1m> Finished chain.\u001b[0m\n",
      "\n",
      "\u001b[1m> Finished chain.\u001b[0m\n",
      "\n",
      "Answer: A última assembleia registrada do condomínio ocorreu no dia 27 de novembro de 2024.\n"
     ]
    }
   ],
   "source": [
    "# Let's investigate what gets sent behind the scenes\n",
    "\n",
    "from langchain_core.callbacks import StdOutCallbackHandler\n",
    "\n",
    "llm = ChatOpenAI(temperature=0.7, model_name=MODEL)\n",
    "\n",
    "memory = ConversationBufferMemory(memory_key='chat_history', return_messages=True)\n",
    "\n",
    "retriever = vectorstore.as_retriever()\n",
    "\n",
    "conversation_chain = ConversationalRetrievalChain.from_llm(llm=llm, retriever=retriever, memory=memory, callbacks=[StdOutCallbackHandler()])\n",
    "\n",
    "query = \"Quando ocorreu a última assembleia ou reunião registrada do condomínio?\"\n",
    "result = conversation_chain.invoke({\"question\": query})\n",
    "answer = result[\"answer\"]\n",
    "print(\"\\nAnswer:\", answer)"
   ]
  },
  {
   "cell_type": "code",
   "execution_count": 28,
   "id": "2136153b-d2f6-4c58-a0e3-78c3a932cf55",
   "metadata": {},
   "outputs": [],
   "source": [
    "# create a new Chat with OpenAI\n",
    "llm = ChatOpenAI(temperature=0.7, model_name=MODEL)\n",
    "\n",
    "# set up the conversation memory for the chat\n",
    "memory = ConversationBufferMemory(memory_key='chat_history', return_messages=True)\n",
    "\n",
    "# the retriever is an abstraction over the VectorStore that will be used during RAG; k is how many chunks to use\n",
    "retriever = vectorstore.as_retriever(search_kwargs={\"k\": 25})\n",
    "\n",
    "# putting it together: set up the conversation chain with the GPT 3.5 LLM, the vector store and memory\n",
    "conversation_chain = ConversationalRetrievalChain.from_llm(llm=llm, retriever=retriever, memory=memory)"
   ]
  },
  {
   "cell_type": "code",
   "execution_count": 29,
   "id": "5c2bfa3c-810b-441b-90d1-31533f14b1e3",
   "metadata": {},
   "outputs": [],
   "source": [
    "def chat(question, history):\n",
    "    result = conversation_chain.invoke({\"question\": question})\n",
    "    return result[\"answer\"]"
   ]
  },
  {
   "cell_type": "code",
   "execution_count": 30,
   "id": "c736f33b-941e-4853-8eaf-2003bd988b18",
   "metadata": {},
   "outputs": [
    {
     "name": "stdout",
     "output_type": "stream",
     "text": [
      "* Running on local URL:  http://127.0.0.1:7863\n",
      "* To create a public link, set `share=True` in `launch()`.\n"
     ]
    },
    {
     "data": {
      "text/html": [
       "<div><iframe src=\"http://127.0.0.1:7863/\" width=\"100%\" height=\"500\" allow=\"autoplay; camera; microphone; clipboard-read; clipboard-write;\" frameborder=\"0\" allowfullscreen></iframe></div>"
      ],
      "text/plain": [
       "<IPython.core.display.HTML object>"
      ]
     },
     "metadata": {},
     "output_type": "display_data"
    }
   ],
   "source": [
    "view = gr.ChatInterface(chat, type=\"messages\").launch(inbrowser=True)"
   ]
  }
 ],
 "metadata": {
  "kernelspec": {
   "display_name": "agents",
   "language": "python",
   "name": "python3"
  },
  "language_info": {
   "codemirror_mode": {
    "name": "ipython",
    "version": 3
   },
   "file_extension": ".py",
   "mimetype": "text/x-python",
   "name": "python",
   "nbconvert_exporter": "python",
   "pygments_lexer": "ipython3",
   "version": "3.12.11"
  }
 },
 "nbformat": 4,
 "nbformat_minor": 5
}
