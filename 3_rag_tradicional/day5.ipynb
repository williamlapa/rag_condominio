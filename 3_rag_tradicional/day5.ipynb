{
 "cells": [
  {
   "cell_type": "markdown",
   "id": "dfe37963-1af6-44fc-a841-8e462443f5e6",
   "metadata": {},
   "source": [
    "## Usando RAG para Docs de condomínio\n"
   ]
  },
  {
   "cell_type": "code",
   "execution_count": 1,
   "id": "ba2779af-84ef-4227-9e9e-6eaf0df87e77",
   "metadata": {},
   "outputs": [],
   "source": [
    "# imports simples\n",
    "\n",
    "import os\n",
    "import glob\n",
    "from dotenv import load_dotenv\n",
    "import gradio as gr\n",
    "\n",
    "# imports for langchain, plotly and Chroma\n",
    "\n",
    "from langchain.document_loaders import DirectoryLoader, TextLoader\n",
    "from langchain.text_splitter import CharacterTextSplitter\n",
    "from langchain.schema import Document\n",
    "from langchain_openai import OpenAIEmbeddings, ChatOpenAI\n",
    "from langchain_chroma import Chroma\n",
    "import matplotlib.pyplot as plt\n",
    "from sklearn.manifold import TSNE\n",
    "import numpy as np\n",
    "import plotly.graph_objects as go\n",
    "from langchain.memory import ConversationBufferMemory\n",
    "from langchain.chains import ConversationalRetrievalChain\n",
    "from langchain.embeddings import HuggingFaceEmbeddings\n"
   ]
  },
  {
   "cell_type": "code",
   "execution_count": 2,
   "id": "58c85082-e417-4708-9efe-81a5d55d1424",
   "metadata": {},
   "outputs": [],
   "source": [
    "# Definindo modelos e banco de dados\n",
    "\n",
    "MODEL = \"gpt-4o-mini\"\n",
    "db_name = \"vector_db\""
   ]
  },
  {
   "cell_type": "code",
   "execution_count": 3,
   "id": "ee78efcb-60fe-449e-a944-40bab26261af",
   "metadata": {},
   "outputs": [],
   "source": [
    "# Carregando variáveis de ambiente\n",
    "\n",
    "load_dotenv(override=True)\n",
    "os.environ['OPENAI_API_KEY'] = os.getenv('OPENAI_API_KEY', 'your-key-if-not-using-env')"
   ]
  },
  {
   "cell_type": "code",
   "execution_count": 4,
   "id": "34607b83",
   "metadata": {},
   "outputs": [
    {
     "name": "stdout",
     "output_type": "stream",
     "text": [
      "Verificando o diretório: /mnt/c/Users/willi/Documents/Projetos/rag_condominio/0_base_conhecimento/processed_docs_cache\n",
      "Conteúdo do diretório: ['049b078c-b5bf-4d97-bdf7-a2fbd7c66f3b.txt', '065b78d0-c521-4ff9-9932-3825b4b82437.txt', '080a5ffd-2464-40f4-92c0-b4b07e45f617.txt', '2789187e-d466-448c-95ff-f7ff1250a5a4.txt', '280c2644-d328-40d5-bd2c-755a12df2a78.txt', '2ab34b5f-907f-4a18-b0d1-00b152a94df0.txt', '2d264460-0427-482b-ae8d-1c63b20fc53a.txt', '4ef8fafa-78b6-4f4e-8c81-6ca0132fe3b4.txt', '5f64b310-fb6b-412e-b295-96c52a2a1cf4.txt', '5f6bce90-49ed-4d61-858a-fba2f2e1bfe0.txt', '633681a6-5e09-4894-b648-7204c60baea2.txt', '65acae7c-a59f-4e10-8d41-22632869a150.txt', '6917e5df-e366-4198-98b0-1ee290786cb9.txt', '798a79eb-8cbc-4645-9610-474411733ed5.txt', '7cf9f6a5-99d3-4c15-9197-bfb22d2ea64e.txt', '874d4d25-d861-48a4-8060-b2c281d0ff20.txt', '8a71943b-ebd6-45a5-856b-5ead72b58d06.txt', '98e667e9-9dc1-4e00-a6fe-51fb7fa0b1a1.txt', '9c5d36c6-bda9-40df-a782-6f42537facf5.txt', '9c7408f2-660f-4f7d-8272-3e8b462be3ae.txt', '9d0b28a5-1c42-4db7-8106-9df09cd2764b.txt', 'a3ab79c5-52e6-43bd-8743-58a5714651b1.txt', 'ATA_22_04_2025.docx', 'cd0a0fe2-f556-4d41-8de8-06eb5b0e0230.txt', 'd2c0503c-1caa-4c0c-b7d3-56bb31064a58.txt', 'd648bb35-c0f2-4f1e-ae64-83408184cd47.txt', 'dbf86d04-be52-4e18-81f1-8363f6b313e7.txt', 'de470402-edbe-45ca-9e00-c4604382f55d.txt', 'df61199b-6199-471d-a952-219f17af1950.txt', 'e96e4dac-fc58-4346-a8cc-7f349b0e4458.txt', 'fa4323cb-3eae-4339-9357-ae5c84a233de.txt']\n",
      "Processando pasta: /mnt/c/Users/willi/Documents/Projetos/rag_condominio/0_base_conhecimento/processed_docs_cache (tipo: processed_docs_cache)\n"
     ]
    },
    {
     "name": "stderr",
     "output_type": "stream",
     "text": [
      "Created a chunk of size 1160, which is longer than the specified 1000\n",
      "Created a chunk of size 2119, which is longer than the specified 1000\n",
      "Created a chunk of size 1586, which is longer than the specified 1000\n",
      "Created a chunk of size 2610, which is longer than the specified 1000\n",
      "Created a chunk of size 1825, which is longer than the specified 1000\n",
      "Created a chunk of size 1969, which is longer than the specified 1000\n",
      "Created a chunk of size 4090, which is longer than the specified 1000\n",
      "Created a chunk of size 4563, which is longer than the specified 1000\n",
      "Created a chunk of size 3047, which is longer than the specified 1000\n",
      "Created a chunk of size 1381, which is longer than the specified 1000\n",
      "Created a chunk of size 4421, which is longer than the specified 1000\n",
      "Created a chunk of size 1301, which is longer than the specified 1000\n",
      "Created a chunk of size 1222, which is longer than the specified 1000\n",
      "Created a chunk of size 4010, which is longer than the specified 1000\n",
      "Created a chunk of size 4338, which is longer than the specified 1000\n",
      "Created a chunk of size 1576, which is longer than the specified 1000\n",
      "Created a chunk of size 3537, which is longer than the specified 1000\n",
      "Created a chunk of size 1983, which is longer than the specified 1000\n",
      "Created a chunk of size 2970, which is longer than the specified 1000\n",
      "Created a chunk of size 1347, which is longer than the specified 1000\n",
      "Created a chunk of size 2127, which is longer than the specified 1000\n",
      "Created a chunk of size 4673, which is longer than the specified 1000\n",
      "Created a chunk of size 1362, which is longer than the specified 1000\n",
      "Created a chunk of size 3824, which is longer than the specified 1000\n",
      "Created a chunk of size 3685, which is longer than the specified 1000\n",
      "Created a chunk of size 1269, which is longer than the specified 1000\n",
      "Created a chunk of size 3782, which is longer than the specified 1000\n",
      "Created a chunk of size 1348, which is longer than the specified 1000\n",
      "Created a chunk of size 3485, which is longer than the specified 1000\n",
      "Created a chunk of size 4519, which is longer than the specified 1000\n",
      "Created a chunk of size 4129, which is longer than the specified 1000\n",
      "Created a chunk of size 3868, which is longer than the specified 1000\n",
      "Created a chunk of size 4562, which is longer than the specified 1000\n",
      "Created a chunk of size 3608, which is longer than the specified 1000\n",
      "Created a chunk of size 3697, which is longer than the specified 1000\n",
      "Created a chunk of size 1588, which is longer than the specified 1000\n",
      "Created a chunk of size 1150, which is longer than the specified 1000\n",
      "Created a chunk of size 2367, which is longer than the specified 1000\n",
      "Created a chunk of size 1983, which is longer than the specified 1000\n",
      "Created a chunk of size 2970, which is longer than the specified 1000\n",
      "Created a chunk of size 1347, which is longer than the specified 1000\n",
      "Created a chunk of size 4823, which is longer than the specified 1000\n",
      "Created a chunk of size 5006, which is longer than the specified 1000\n",
      "Created a chunk of size 4385, which is longer than the specified 1000\n",
      "Created a chunk of size 1292, which is longer than the specified 1000\n",
      "Created a chunk of size 2331, which is longer than the specified 1000\n",
      "Created a chunk of size 1160, which is longer than the specified 1000\n",
      "Created a chunk of size 2119, which is longer than the specified 1000\n",
      "Created a chunk of size 1586, which is longer than the specified 1000\n",
      "Created a chunk of size 2610, which is longer than the specified 1000\n",
      "Created a chunk of size 1825, which is longer than the specified 1000\n",
      "Created a chunk of size 1969, which is longer than the specified 1000\n",
      "Created a chunk of size 4090, which is longer than the specified 1000\n",
      "Created a chunk of size 4563, which is longer than the specified 1000\n",
      "Created a chunk of size 3047, which is longer than the specified 1000\n",
      "Created a chunk of size 1381, which is longer than the specified 1000\n",
      "Created a chunk of size 4421, which is longer than the specified 1000\n",
      "Created a chunk of size 1301, which is longer than the specified 1000\n",
      "Created a chunk of size 1222, which is longer than the specified 1000\n",
      "Created a chunk of size 4010, which is longer than the specified 1000\n",
      "Created a chunk of size 4338, which is longer than the specified 1000\n",
      "Created a chunk of size 1576, which is longer than the specified 1000\n",
      "Created a chunk of size 3537, which is longer than the specified 1000\n",
      "Created a chunk of size 4673, which is longer than the specified 1000\n",
      "Created a chunk of size 1362, which is longer than the specified 1000\n",
      "Created a chunk of size 3697, which is longer than the specified 1000\n",
      "Created a chunk of size 1588, which is longer than the specified 1000\n",
      "Created a chunk of size 1150, which is longer than the specified 1000\n",
      "Created a chunk of size 2367, which is longer than the specified 1000\n",
      "Created a chunk of size 3618, which is longer than the specified 1000\n",
      "Created a chunk of size 2218, which is longer than the specified 1000\n",
      "Created a chunk of size 1434, which is longer than the specified 1000\n",
      "Created a chunk of size 3685, which is longer than the specified 1000\n",
      "Created a chunk of size 3021, which is longer than the specified 1000\n",
      "Created a chunk of size 2817, which is longer than the specified 1000\n"
     ]
    },
    {
     "name": "stdout",
     "output_type": "stream",
     "text": [
      "Encontrados 30 documentos nesta pasta\n"
     ]
    },
    {
     "name": "stderr",
     "output_type": "stream",
     "text": [
      "Created a chunk of size 2047, which is longer than the specified 1000\n"
     ]
    },
    {
     "name": "stdout",
     "output_type": "stream",
     "text": [
      "Total number of chunks: 346\n",
      "Document types found: {'processed_docs_cache'}\n"
     ]
    }
   ],
   "source": [
    "# 1. Primeiro, verifique se o caminho está correto\n",
    "BASE_DIR = os.path.abspath(os.path.join(os.getcwd(), \"../0_base_conhecimento\"))\n",
    "CACHE_DIR = os.path.join(BASE_DIR, \"processed_docs_cache\")\n",
    "\n",
    "knowledgebase_path = CACHE_DIR\n",
    "print(f\"Verificando o diretório: {knowledgebase_path}\")\n",
    "print(f\"Conteúdo do diretório: {os.listdir(knowledgebase_path)}\")\n",
    "\n",
    "# 2. Modifique para procurar tanto em processed_docs_cache quanto em suas subpastas\n",
    "folders = glob.glob(os.path.join(knowledgebase_path, \"*\")) + [knowledgebase_path]\n",
    "\n",
    "def add_metadata(doc, doc_type):\n",
    "    doc.metadata[\"doc_type\"] = doc_type\n",
    "    return doc\n",
    "\n",
    "text_loader_kwargs = {'encoding': 'utf-8'}\n",
    "\n",
    "documents = []\n",
    "for folder in folders:\n",
    "    if os.path.isdir(folder):  # Só processa se for um diretório\n",
    "        doc_type = os.path.basename(folder)\n",
    "        print(f\"Processando pasta: {folder} (tipo: {doc_type})\")\n",
    "        \n",
    "        # Tente carregar tanto arquivos .txt na pasta raiz quanto em subpastas\n",
    "        loader = DirectoryLoader(folder, glob=\"**/*.txt\", loader_cls=TextLoader, \n",
    "                               loader_kwargs=text_loader_kwargs, recursive=True)\n",
    "        folder_docs = loader.load()\n",
    "        print(f\"Encontrados {len(folder_docs)} documentos nesta pasta\")\n",
    "        documents.extend([add_metadata(doc, doc_type) for doc in folder_docs])\n",
    "\n",
    "if not documents:\n",
    "    print(\"Nenhum documento foi carregado. Verifique:\")\n",
    "    print(f\"1. O caminho {knowledgebase_path} existe?\")\n",
    "    print(\"2. Existem arquivos .txt no diretório ou subdiretórios?\")\n",
    "else:\n",
    "    text_splitter = CharacterTextSplitter(chunk_size=1000, chunk_overlap=200)\n",
    "    chunks = text_splitter.split_documents(documents)\n",
    "    print(f\"Total number of chunks: {len(chunks)}\")\n",
    "    print(f\"Document types found: {set(doc.metadata['doc_type'] for doc in documents)}\")"
   ]
  },
  {
   "cell_type": "code",
   "execution_count": 5,
   "id": "78998399-ac17-4e28-b15f-0b5f51e6ee23",
   "metadata": {},
   "outputs": [
    {
     "name": "stdout",
     "output_type": "stream",
     "text": [
      "Vectorstore created with 346 documents\n"
     ]
    }
   ],
   "source": [
    "# Create embeddings using OpenAI's text-embedding-3-small model\n",
    "embeddings = OpenAIEmbeddings(model=\"text-embedding-3-small\")\n",
    "\n",
    "# Delete if already exists\n",
    "\n",
    "if os.path.exists(db_name):\n",
    "    Chroma(persist_directory=db_name, embedding_function=embeddings).delete_collection()\n",
    "\n",
    "# Create vectorstore\n",
    "\n",
    "vectorstore = Chroma.from_documents(documents=chunks, embedding=embeddings, persist_directory=db_name)\n",
    "print(f\"Vectorstore created with {vectorstore._collection.count()} documents\")"
   ]
  },
  {
   "cell_type": "code",
   "execution_count": 6,
   "id": "ff2e7687-60d4-4920-a1d7-a34b9f70a250",
   "metadata": {},
   "outputs": [
    {
     "name": "stdout",
     "output_type": "stream",
     "text": [
      "There are 346 vectors with 1,536 dimensions in the vector store\n"
     ]
    }
   ],
   "source": [
    "# Let's investigate the vectors\n",
    "\n",
    "collection = vectorstore._collection\n",
    "count = collection.count()\n",
    "\n",
    "sample_embedding = collection.get(limit=1, include=[\"embeddings\"])[\"embeddings\"][0]\n",
    "dimensions = len(sample_embedding)\n",
    "print(f\"There are {count:,} vectors with {dimensions:,} dimensions in the vector store\")"
   ]
  },
  {
   "cell_type": "code",
   "execution_count": 7,
   "id": "129c7d1e-0094-4479-9459-f9360b95f244",
   "metadata": {},
   "outputs": [
    {
     "name": "stderr",
     "output_type": "stream",
     "text": [
      "/tmp/ipykernel_4523/4249715902.py:11: LangChainDeprecationWarning: Please see the migration guide at: https://python.langchain.com/docs/versions/migrating_memory/\n",
      "  memory = ConversationBufferMemory(memory_key='chat_history', return_messages=True)\n"
     ]
    }
   ],
   "source": [
    "# create a new Chat with OpenAI\n",
    "llm = ChatOpenAI(\n",
    "    temperature=0.7,\n",
    "    model_name=MODEL\n",
    ")\n",
    "\n",
    "# Alternative - if you'd like to use Ollama locally, uncomment this line instead\n",
    "# llm = ChatOpenAI(temperature=0.7, model_name='llama3.2', base_url='http://localhost:11434/v1', api_key='ollama')\n",
    "\n",
    "# set up the conversation memory for the chat\n",
    "memory = ConversationBufferMemory(memory_key='chat_history', return_messages=True)\n",
    "\n",
    "# the retriever is an abstraction over the VectorStore that will be used during RAG\n",
    "retriever = vectorstore.as_retriever()\n",
    "\n",
    "# putting it together: set up the conversation chain with the GPT 3.5 LLM, the vector store and memory\n",
    "conversation_chain = ConversationalRetrievalChain.from_llm(llm=llm, retriever=retriever, memory=memory)"
   ]
  },
  {
   "cell_type": "code",
   "execution_count": 8,
   "id": "028a9342",
   "metadata": {},
   "outputs": [
    {
     "name": "stdout",
     "output_type": "stream",
     "text": [
      "❓ Pergunta: Quando ocorreu a última assembleia ou reunião registrada do condomínio?\n",
      "✅ Resposta: A última assembleia registrada do condomínio ocorreu no dia 27 de novembro de 2024.\n",
      "\n",
      "❓ Pergunta: Liste as datas das cinco assembleias ou reuniões mais recentes, em ordem cronológica.\n",
      "✅ Resposta: As datas das cinco assembleias ou reuniões mais recentes, em ordem cronológica, são:\n",
      "\n",
      "1. 04 de novembro de 2024\n",
      "2. 10 de setembro de 2024\n",
      "3. 08 de novembro de 2023 (não mencionada diretamente, mas inferida a partir do contexto)\n",
      "4. 05 de outubro de 2023 (não mencionada diretamente, mas inferida a partir do contexto)\n",
      "5. 01 de setembro de 2023 (não mencionada diretamente, mas inferida a partir do contexto) \n",
      "\n",
      "Nota: As últimas três datas foram inferidas e não estão explicitamente mencionadas no texto fornecido.\n",
      "\n",
      "❓ Pergunta: Quais foram os tópicos principais discutidos na assembleia mais recente do condomínio?\n",
      "✅ Resposta: Os tópicos principais discutidos na assembleia recente do condomínio foram:\n",
      "\n",
      "A) Apresentação da previsão orçamentária para 2023 e votação sobre a majoração da taxa ordinária.\n",
      "B) Apresentação de relatório das necessidades de obras para recuperação das áreas comuns.\n",
      "C) Apresentação do saldo bancário oriundo da taxa extra destinada à obra do andar 55, com votação para utilização nos investimentos necessários.\n",
      "D) Apresentação de propostas e votação para reajuste do valor de utilização do salão de festas e aprovação de taxa para utilização da churrasqueira.\n",
      "E) Discussão e definição do uso das áreas comuns dos apartamentos.\n",
      "F) Discussão sobre as manutenções preventivas desatualizadas e outras questões operacionais do condomínio.\n",
      "G) Tratativas com a seguradora sobre ressarcimento de danos e despesas executadas.\n",
      "H) Atualização do regimento interno, com a formação de uma comissão para elaborar uma proposta de atualização.\n",
      "\n",
      "Esses foram os principais pontos abordados durante a reunião.\n",
      "\n",
      "❓ Pergunta: Quem são os atuais membros do conselho fiscal, conforme os documentos mais recentes?\n",
      "✅ Resposta: Os documentos mais recentes mencionam que os membros do conselho fiscal são Maridzabel Cordeiro Ferreira e Asevedo, ambos como conselheiros fiscais renunciantes. Não há informações sobre novos membros do conselho fiscal.\n",
      "\n",
      "❓ Pergunta: De acordo com a última ata de assembleia, qual é o valor atual da taxa condominial definida para os condôminos?\n",
      "✅ Resposta: Não sei.\n",
      "\n",
      "❓ Pergunta: Quais contratos ativos o condomínio possui atualmente e com quais empresas foram firmados?\n",
      "✅ Resposta: Não sei.\n",
      "\n",
      "❓ Pergunta: Qual é o valor mensal acordado no contrato de prestação de serviços manutenção de elevadores?\n",
      "✅ Resposta: O valor mensal acordado no contrato de prestação de serviços de manutenção de elevadores é de R$ 2.100,00 (Dois Mil e Cem Reais).\n",
      "\n",
      "❓ Pergunta: Há cláusulas com penalidades previstas para rescisão antecipada de algum contrato? Se sim, quais?\n",
      "✅ Resposta: Sim, há cláusulas com penalidades previstas para rescisão antecipada de contrato. Conforme a Cláusula Sétima - Da Rescisão:\n",
      "\n",
      "1. Se a rescisão for sem justa causa por parte da CONTRATANTE, esta deverá pagar à CONTRATADA o equivalente a 10% do saldo do contrato, a título de indenização.\n",
      "  \n",
      "2. Se a rescisão for sem justa causa por parte da CONTRATADA, esta deverá pagar à CONTRATANTE o equivalente a 10% do saldo do contrato, a título de indenização. \n",
      "\n",
      "Essas penalidades se aplicam em casos de rescisão sem justa causa por qualquer das partes.\n",
      "\n",
      "❓ Pergunta: Quando foi firmado o contrato mais recente e qual é o prazo de vigência previsto?\n",
      "✅ Resposta: O contrato mais recente foi firmado e terá um prazo de vigência de 1 (um) ano, contado a partir da data de aprovação no Sistema interno da G7 Serv.\n",
      "\n",
      "❓ Pergunta: Existe algum contrato relacionado à manutenção predial, elevadores ou segurança eletrônica? Qual o conteúdo principal?\n",
      "✅ Resposta: Sim, há um contrato relacionado à manutenção de elevadores. O conteúdo principal desse contrato inclui:\n",
      "\n",
      "1. **Objeto do Contrato**: Prestação de serviços técnicos especializados de manutenção preventiva e corretiva para elevadores, incluindo a aplicação de peças.\n",
      "\n",
      "2. **Obrigações da Contratada**: \n",
      "   - Realizar inspeções técnicas nos equipamentos.\n",
      "   - Efetuar serviços de manutenção preventiva e corretiva.\n",
      "   - Atender chamados para regularizar anormalidades de funcionamento.\n",
      "   - Efetuar testes de segurança.\n",
      "\n",
      "3. **Condições de Rescisão**: O contrato pode ser rescindido imediatamente em casos específicos, como intervenções de terceiros que afetem a segurança do elevador ou falta de atendimento das recomendações de segurança.\n",
      "\n",
      "4. **Multa Rescisória**: Em caso de rescisão imotivada, a parte que solicitar a rescisão deve pagar uma multa compensatória correspondente a 50% das mensalidades restantes.\n",
      "\n",
      "5. **Serviços excluídos**: O contrato especifica quais serviços e peças estão excluídos, como serviços decorrentes de negligência ou mau uso.\n",
      "\n",
      "Esses são alguns dos principais pontos abordados no contrato de prestação de serviços para manutenção de elevadores.\n",
      "\n"
     ]
    }
   ],
   "source": [
    "sample_questions = [\n",
    "    # 📝 Atas e Reuniões\n",
    "    \"Quando ocorreu a última assembleia ou reunião registrada do condomínio?\",\n",
    "    \"Liste as datas das cinco assembleias ou reuniões mais recentes, em ordem cronológica.\",\n",
    "    \"Quais foram os tópicos principais discutidos na assembleia mais recente do condomínio?\",\n",
    "    \"Quem são os atuais membros do conselho fiscal, conforme os documentos mais recentes?\",\n",
    "    \"De acordo com a última ata de assembleia, qual é o valor atual da taxa condominial definida para os condôminos?\",\n",
    "\n",
    "    # 📄 Contratos\n",
    "    \"Quais contratos ativos o condomínio possui atualmente e com quais empresas foram firmados?\",\n",
    "    \"Qual é o valor mensal acordado no contrato de prestação de serviços manutenção de elevadores?\",\n",
    "    \"Há cláusulas com penalidades previstas para rescisão antecipada de algum contrato? Se sim, quais?\",\n",
    "    \"Quando foi firmado o contrato mais recente e qual é o prazo de vigência previsto?\",\n",
    "    \"Existe algum contrato relacionado à manutenção predial, elevadores ou segurança eletrônica? Qual o conteúdo principal?\"\n",
    "]\n",
    "\n",
    "# 9. Execução das perguntas\n",
    "for question in sample_questions:\n",
    "    result = conversation_chain.invoke({\"question\": question})\n",
    "    print(f\"❓ Pergunta: {question}\\n✅ Resposta: {result['answer']}\\n\")"
   ]
  },
  {
   "cell_type": "code",
   "execution_count": null,
   "id": "5b5a9013-d5d4-4e25-9e7c-cdbb4f33e319",
   "metadata": {},
   "outputs": [],
   "source": [
    "# set up a new conversation memory for the chat\n",
    "memory = ConversationBufferMemory(memory_key='chat_history', return_messages=True)\n",
    "\n",
    "# putting it together: set up the conversation chain with the GPT 4o-mini LLM, the vector store and memory\n",
    "conversation_chain = ConversationalRetrievalChain.from_llm(llm=llm, retriever=retriever, memory=memory)"
   ]
  },
  {
   "cell_type": "markdown",
   "id": "bbbcb659-13ce-47ab-8a5e-01b930494964",
   "metadata": {},
   "source": [
    "## Now we will bring this up in Gradio using the Chat interface -\n",
    "\n",
    "A quick and easy way to prototype a chat with an LLM"
   ]
  },
  {
   "cell_type": "code",
   "execution_count": null,
   "id": "c3536590-85c7-4155-bd87-ae78a1467670",
   "metadata": {},
   "outputs": [],
   "source": [
    "# Wrapping that in a function\n",
    "\n",
    "def chat(question, history):\n",
    "    result = conversation_chain.invoke({\"question\": question})\n",
    "    return result[\"answer\"]"
   ]
  },
  {
   "cell_type": "code",
   "execution_count": null,
   "id": "b252d8c1-61a8-406d-b57a-8f708a62b014",
   "metadata": {},
   "outputs": [],
   "source": [
    "# And in Gradio:\n",
    "\n",
    "view = gr.ChatInterface(chat, type=\"messages\").launch(inbrowser=True)"
   ]
  },
  {
   "cell_type": "code",
   "execution_count": null,
   "id": "b55e9abb-e1da-46c5-acba-911868aee329",
   "metadata": {},
   "outputs": [],
   "source": [
    "# Let's investigate what gets sent behind the scenes\n",
    "\n",
    "from langchain_core.callbacks import StdOutCallbackHandler\n",
    "\n",
    "llm = ChatOpenAI(temperature=0.7, model_name=MODEL)\n",
    "\n",
    "memory = ConversationBufferMemory(memory_key='chat_history', return_messages=True)\n",
    "\n",
    "retriever = vectorstore.as_retriever()\n",
    "\n",
    "conversation_chain = ConversationalRetrievalChain.from_llm(llm=llm, retriever=retriever, memory=memory, callbacks=[StdOutCallbackHandler()])\n",
    "\n",
    "query = \"Quando ocorreu a última assembleia ou reunião registrada do condomínio?\"\n",
    "result = conversation_chain.invoke({\"question\": query})\n",
    "answer = result[\"answer\"]\n",
    "print(\"\\nAnswer:\", answer)"
   ]
  },
  {
   "cell_type": "code",
   "execution_count": null,
   "id": "2136153b-d2f6-4c58-a0e3-78c3a932cf55",
   "metadata": {},
   "outputs": [],
   "source": [
    "# create a new Chat with OpenAI\n",
    "llm = ChatOpenAI(temperature=0.7, model_name=MODEL)\n",
    "\n",
    "# set up the conversation memory for the chat\n",
    "memory = ConversationBufferMemory(memory_key='chat_history', return_messages=True)\n",
    "\n",
    "# the retriever is an abstraction over the VectorStore that will be used during RAG; k is how many chunks to use\n",
    "retriever = vectorstore.as_retriever(search_kwargs={\"k\": 25})\n",
    "\n",
    "# putting it together: set up the conversation chain with the GPT 3.5 LLM, the vector store and memory\n",
    "conversation_chain = ConversationalRetrievalChain.from_llm(llm=llm, retriever=retriever, memory=memory)"
   ]
  },
  {
   "cell_type": "code",
   "execution_count": null,
   "id": "5c2bfa3c-810b-441b-90d1-31533f14b1e3",
   "metadata": {},
   "outputs": [],
   "source": [
    "def chat(question, history):\n",
    "    result = conversation_chain.invoke({\"question\": question})\n",
    "    return result[\"answer\"]"
   ]
  },
  {
   "cell_type": "code",
   "execution_count": null,
   "id": "c736f33b-941e-4853-8eaf-2003bd988b18",
   "metadata": {},
   "outputs": [],
   "source": [
    "view = gr.ChatInterface(chat, type=\"messages\").launch(inbrowser=True)"
   ]
  }
 ],
 "metadata": {
  "kernelspec": {
   "display_name": "agents",
   "language": "python",
   "name": "python3"
  },
  "language_info": {
   "codemirror_mode": {
    "name": "ipython",
    "version": 3
   },
   "file_extension": ".py",
   "mimetype": "text/x-python",
   "name": "python",
   "nbconvert_exporter": "python",
   "pygments_lexer": "ipython3",
   "version": "3.12.11"
  }
 },
 "nbformat": 4,
 "nbformat_minor": 5
}
