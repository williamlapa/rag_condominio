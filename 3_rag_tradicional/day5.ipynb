{
 "cells": [
  {
   "cell_type": "markdown",
   "id": "dfe37963-1af6-44fc-a841-8e462443f5e6",
   "metadata": {},
   "source": [
    "## Usando RAG para Docs de condomínio\n"
   ]
  },
  {
   "cell_type": "code",
   "execution_count": null,
   "id": "ba2779af-84ef-4227-9e9e-6eaf0df87e77",
   "metadata": {},
   "outputs": [],
   "source": [
    "# RAG para Documentos de Condomínio - Versão Otimizada\n",
    "\n",
    "import os\n",
    "import glob\n",
    "from dotenv import load_dotenv\n",
    "import gradio as gr\n",
    "\n",
    "# Imports LangChain\n",
    "from langchain.document_loaders import DirectoryLoader, TextLoader\n",
    "from langchain.text_splitter import RecursiveCharacterTextSplitter\n",
    "from langchain.schema import Document\n",
    "from langchain_openai import OpenAIEmbeddings, ChatOpenAI\n",
    "from langchain_chroma import Chroma\n",
    "from langchain.memory import ConversationBufferMemory\n",
    "from langchain.chains import ConversationalRetrievalChain\n",
    "from langchain.document_loaders import UnstructuredFileLoader\n",
    "from langchain.prompts import PromptTemplate\n",
    "\n"
   ]
  },
  {
   "cell_type": "code",
   "execution_count": null,
   "id": "58c85082-e417-4708-9efe-81a5d55d1424",
   "metadata": {},
   "outputs": [],
   "source": [
    "# ============================================================================\n",
    "# 1. CONFIGURAÇÃO INICIAL\n",
    "# ============================================================================\n",
    "\n",
    "# Configuração de modelos e diretórios\n",
    "MODEL = \"gpt-4o-mini\"\n",
    "DB_NAME = \"vector_db\"\n",
    "\n",
    "# Carregamento de variáveis de ambiente\n",
    "load_dotenv(override=True)\n",
    "os.environ['OPENAI_API_KEY'] = os.getenv('OPENAI_API_KEY', 'your-key-if-not-using-env')\n"
   ]
  },
  {
   "cell_type": "code",
   "execution_count": null,
   "id": "34607b83",
   "metadata": {},
   "outputs": [],
   "source": [
    "# 1. Primeiro, verifique se o caminho está correto\n",
    "BASE_DIR = os.path.abspath(os.path.join(os.getcwd(), \"../0_base_conhecimento\"))\n",
    "CACHE_DIR = os.path.join(BASE_DIR, \"processed_docs_cache\")\n",
    "\n",
    "knowledgebase_path = CACHE_DIR\n",
    "print(f\"Verificando o diretório: {knowledgebase_path}\")\n",
    "print(f\"Conteúdo do diretório: {os.listdir(knowledgebase_path)}\")\n",
    "\n",
    "# 2. Modifique para procurar tanto em processed_docs_cache quanto em suas subpastas\n",
    "folders = glob.glob(os.path.join(knowledgebase_path, \"*\")) + [knowledgebase_path]\n",
    "\n",
    "def add_metadata(doc, doc_type):\n",
    "    doc.metadata[\"doc_type\"] = doc_type\n",
    "    return doc\n",
    "\n",
    "text_loader_kwargs = {'encoding': 'utf-8'}\n",
    "\n",
    "# ...existing code...\n",
    "\n",
    "documents = []\n",
    "for folder in folders:\n",
    "    if os.path.isdir(folder):\n",
    "        doc_type = os.path.basename(folder)\n",
    "        print(f\"Processando pasta: {folder} (tipo: {doc_type})\")\n",
    "        \n",
    "        # Carrega arquivos .txt\n",
    "        txt_loader = DirectoryLoader(\n",
    "            folder, glob=\"**/*.txt\", loader_cls=TextLoader, \n",
    "            loader_kwargs=text_loader_kwargs, recursive=True\n",
    "        )\n",
    "        txt_docs = txt_loader.load()\n",
    "        \n",
    "        # Carrega arquivos .docx\n",
    "        docx_loader = DirectoryLoader(\n",
    "            folder, glob=\"**/*.docx\", loader_cls=UnstructuredFileLoader, \n",
    "            recursive=True\n",
    "        )\n",
    "        docx_docs = docx_loader.load()\n",
    "        \n",
    "        # Converte todos para texto puro\n",
    "        all_docs = txt_docs + docx_docs\n",
    "        for doc in all_docs:\n",
    "            # Garante que o conteúdo é texto puro\n",
    "            text = doc.page_content if hasattr(doc, \"page_content\") else str(doc)\n",
    "            # Cria novo Document só com texto puro e metadados\n",
    "            new_doc = Document(page_content=text, metadata=doc.metadata)\n",
    "            new_doc.metadata[\"doc_type\"] = doc_type\n",
    "            documents.append(new_doc)\n",
    "        print(f\"Encontrados {len(all_docs)} documentos nesta pasta\")\n",
    "\n",
    "# ...existing code...\n",
    "\n",
    "if not documents:\n",
    "    print(\"Nenhum documento foi carregado. Verifique:\")\n",
    "    print(f\"1. O caminho {knowledgebase_path} existe?\")\n",
    "    print(\"2. Existem arquivos .txt no diretório ou subdiretórios?\")\n",
    "else:\n",
    "    text_splitter = CharacterTextSplitter(chunk_size=1000, chunk_overlap=200)\n",
    "    chunks = text_splitter.split_documents(documents)\n",
    "    print(f\"Total number of chunks: {len(chunks)}\")\n",
    "    print(f\"Document types found: {set(doc.metadata['doc_type'] for doc in documents)}\")"
   ]
  },
  {
   "cell_type": "code",
   "execution_count": null,
   "id": "78998399-ac17-4e28-b15f-0b5f51e6ee23",
   "metadata": {},
   "outputs": [],
   "source": [
    "# Create embeddings using OpenAI's text-embedding-3-small model\n",
    "embeddings = OpenAIEmbeddings(model=\"text-embedding-3-small\")\n",
    "\n",
    "# Delete if already exists\n",
    "\n",
    "if os.path.exists(db_name):\n",
    "    Chroma(persist_directory=db_name, embedding_function=embeddings).delete_collection()\n",
    "\n",
    "# Create vectorstore\n",
    "\n",
    "vectorstore = Chroma.from_documents(documents=chunks, embedding=embeddings, persist_directory=db_name)\n",
    "print(f\"Vectorstore created with {vectorstore._collection.count()} documents\")"
   ]
  },
  {
   "cell_type": "code",
   "execution_count": null,
   "id": "ff2e7687-60d4-4920-a1d7-a34b9f70a250",
   "metadata": {},
   "outputs": [],
   "source": [
    "# Let's investigate the vectors\n",
    "\n",
    "collection = vectorstore._collection\n",
    "count = collection.count()\n",
    "\n",
    "sample_embedding = collection.get(limit=1, include=[\"embeddings\"])[\"embeddings\"][0]\n",
    "dimensions = len(sample_embedding)\n",
    "print(f\"There are {count:,} vectors with {dimensions:,} dimensions in the vector store\")"
   ]
  },
  {
   "cell_type": "code",
   "execution_count": null,
   "id": "129c7d1e-0094-4479-9459-f9360b95f244",
   "metadata": {},
   "outputs": [],
   "source": [
    "# create a new Chat with OpenAI\n",
    "llm = ChatOpenAI(\n",
    "    temperature=0.7,\n",
    "    model_name=MODEL\n",
    ")\n",
    "\n",
    "# Alternative - if you'd like to use Ollama locally, uncomment this line instead\n",
    "# llm = ChatOpenAI(temperature=0.7, model_name='llama3.2', base_url='http://localhost:11434/v1', api_key='ollama')\n",
    "\n",
    "# set up the conversation memory for the chat\n",
    "memory = ConversationBufferMemory(memory_key='chat_history', return_messages=True)\n",
    "\n",
    "# the retriever is an abstraction over the VectorStore that will be used during RAG\n",
    "retriever = vectorstore.as_retriever()\n",
    "\n",
    "# putting it together: set up the conversation chain with the GPT 3.5 LLM, the vector store and memory\n",
    "conversation_chain = ConversationalRetrievalChain.from_llm(llm=llm, retriever=retriever, memory=memory)"
   ]
  },
  {
   "cell_type": "code",
   "execution_count": null,
   "id": "028a9342",
   "metadata": {},
   "outputs": [],
   "source": [
    "sample_questions = [\n",
    "    # 📝 Atas e Reuniões\n",
    "    \"Quando ocorreu a última assembleia ou reunião registrada do condomínio?\",\n",
    "    \"Liste as datas das cinco assembleias ou reuniões mais recentes, em ordem cronológica.\",\n",
    "    \"Quais foram os tópicos principais discutidos na assembleia mais recente do condomínio?\",\n",
    "    \"Quem são os atuais membros do conselho fiscal, conforme os documentos mais recentes?\",\n",
    "    \"De acordo com a última ata de assembleia, qual é o valor atual da taxa condominial definida para os condôminos?\",\n",
    "\n",
    "    # 📄 Contratos\n",
    "    \"Quais contratos ativos o condomínio possui atualmente e com quais empresas foram firmados?\",\n",
    "    \"Qual é o valor mensal acordado no contrato de prestação de serviços manutenção de elevadores?\",\n",
    "    \"Há cláusulas com penalidades previstas para rescisão antecipada de algum contrato? Se sim, quais?\",\n",
    "    \"Quando foi firmado o contrato mais recente e qual é o prazo de vigência previsto?\",\n",
    "    \"Existe algum contrato relacionado à manutenção predial, elevadores ou segurança eletrônica? Qual o conteúdo principal?\"\n",
    "]\n",
    "\n",
    "# 9. Execução das perguntas\n",
    "for question in sample_questions:\n",
    "    result = conversation_chain.invoke({\"question\": question})\n",
    "    print(f\"❓ Pergunta: {question}\\n✅ Resposta: {result['answer']}\\n\")"
   ]
  },
  {
   "cell_type": "code",
   "execution_count": null,
   "id": "5b5a9013-d5d4-4e25-9e7c-cdbb4f33e319",
   "metadata": {},
   "outputs": [],
   "source": [
    "# set up a new conversation memory for the chat\n",
    "memory = ConversationBufferMemory(memory_key='chat_history', return_messages=True)\n",
    "\n",
    "# putting it together: set up the conversation chain with the GPT 4o-mini LLM, the vector store and memory\n",
    "conversation_chain = ConversationalRetrievalChain.from_llm(llm=llm, retriever=retriever, memory=memory)"
   ]
  },
  {
   "cell_type": "markdown",
   "id": "bbbcb659-13ce-47ab-8a5e-01b930494964",
   "metadata": {},
   "source": [
    "## Now we will bring this up in Gradio using the Chat interface -\n",
    "\n",
    "A quick and easy way to prototype a chat with an LLM"
   ]
  },
  {
   "cell_type": "code",
   "execution_count": null,
   "id": "c3536590-85c7-4155-bd87-ae78a1467670",
   "metadata": {},
   "outputs": [],
   "source": [
    "# Wrapping that in a function\n",
    "\n",
    "def chat(question, history):\n",
    "    result = conversation_chain.invoke({\"question\": question})\n",
    "    return result[\"answer\"]"
   ]
  },
  {
   "cell_type": "code",
   "execution_count": null,
   "id": "b252d8c1-61a8-406d-b57a-8f708a62b014",
   "metadata": {},
   "outputs": [],
   "source": [
    "# And in Gradio:\n",
    "\n",
    "view = gr.ChatInterface(chat, type=\"messages\").launch(inbrowser=True)"
   ]
  },
  {
   "cell_type": "code",
   "execution_count": null,
   "id": "2136153b-d2f6-4c58-a0e3-78c3a932cf55",
   "metadata": {},
   "outputs": [],
   "source": [
    "# create a new Chat with OpenAI\n",
    "llm = ChatOpenAI(temperature=0.7, model_name=MODEL)\n",
    "\n",
    "# set up the conversation memory for the chat\n",
    "memory = ConversationBufferMemory(memory_key='chat_history', return_messages=True)\n",
    "\n",
    "# the retriever is an abstraction over the VectorStore that will be used during RAG; k is how many chunks to use\n",
    "retriever = vectorstore.as_retriever(search_kwargs={\"k\": 25})\n",
    "\n",
    "# putting it together: set up the conversation chain with the GPT 3.5 LLM, the vector store and memory\n",
    "conversation_chain = ConversationalRetrievalChain.from_llm(llm=llm, retriever=retriever, memory=memory)"
   ]
  },
  {
   "cell_type": "code",
   "execution_count": null,
   "id": "5c2bfa3c-810b-441b-90d1-31533f14b1e3",
   "metadata": {},
   "outputs": [],
   "source": [
    "def chat(question, history):\n",
    "    result = conversation_chain.invoke({\"question\": question})\n",
    "    return result[\"answer\"]"
   ]
  },
  {
   "cell_type": "code",
   "execution_count": null,
   "id": "c736f33b-941e-4853-8eaf-2003bd988b18",
   "metadata": {},
   "outputs": [],
   "source": [
    "view = gr.ChatInterface(chat, type=\"messages\").launch(inbrowser=True)"
   ]
  }
 ],
 "metadata": {
  "kernelspec": {
   "display_name": ".venv",
   "language": "python",
   "name": "python3"
  },
  "language_info": {
   "codemirror_mode": {
    "name": "ipython",
    "version": 3
   },
   "file_extension": ".py",
   "mimetype": "text/x-python",
   "name": "python",
   "nbconvert_exporter": "python",
   "pygments_lexer": "ipython3",
   "version": "3.12.0"
  }
 },
 "nbformat": 4,
 "nbformat_minor": 5
}
